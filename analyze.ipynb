{
 "cells": [
  {
   "cell_type": "code",
   "execution_count": null,
   "id": "34c2bb9f",
   "metadata": {},
   "outputs": [],
   "source": [
    "!pip install pandas numpy matplotlib scipy jinja2 seaborn fastparquet pyarrow statsmodels torch torchvision torchaudio --quiet"
   ]
  },
  {
   "cell_type": "code",
   "execution_count": null,
   "id": "bbc2e2e4",
   "metadata": {},
   "outputs": [],
   "source": [
    "import warnings\n",
    "warnings.filterwarnings(\"ignore\", category=FutureWarning)"
   ]
  },
  {
   "cell_type": "markdown",
   "id": "048a73fc",
   "metadata": {},
   "source": [
    "Preprocessing and Feature Extraction"
   ]
  },
  {
   "cell_type": "code",
   "execution_count": null,
   "id": "53b07de5",
   "metadata": {},
   "outputs": [],
   "source": [
    "from gaze_analysis.io_utils import load_data\n",
    "from gaze_analysis.preprocess import compute_velocity\n",
    "from gaze_analysis.velocity_analysis import adaptive_saccade_threshold, plot_velocity_distribution\n",
    "from gaze_analysis.attention_metrics import compute_attention_profile\n",
    "from gaze_analysis.visualization import (\n",
    "    plot_attention_timeline, plot_fixations, plot_rolling_entropy\n",
    ")\n",
    "\n",
    "import pandas as pd\n",
    "import numpy as np\n",
    "\n",
    "\n",
    "path = \"data/S_3458_S2_3_VID.csv\"\n",
    "df = load_data(path)\n",
    "df = compute_velocity(df)\n",
    "print(f\"Sampling rate ≈ {1000/np.mean(np.diff(df['n'])):.1f} Hz\")\n",
    "\n",
    "\n",
    "saccade_thresh = adaptive_saccade_threshold(df)\n",
    "plot_velocity_distribution(df, saccade_thresh)\n",
    "\n",
    "profile = compute_attention_profile(df, saccade_thresh)\n",
    "summary = pd.DataFrame(profile['summary'], index=[0])\n",
    "display(summary.style.set_caption(\"Summary of Attention Metrics\").background_gradient(axis=None))\n",
    "\n",
    "\n",
    "plot_attention_timeline(df, saccade_thresh)\n",
    "plot_fixations(df, profile[\"fixation_segments\"])\n",
    "\n",
    "\n",
    "times, ents = profile[\"rolling_entropy_times\"], profile[\"rolling_entropy_values\"]\n",
    "plot_rolling_entropy(times, ents)\n",
    "\n",
    "\n"
   ]
  },
  {
   "cell_type": "code",
   "execution_count": null,
   "id": "81550aa9",
   "metadata": {},
   "outputs": [],
   "source": [
    "from gaze_analysis.batch_analysis import analyze_directory\n",
    "summary_df = analyze_directory(\"data\", save_processed=True)"
   ]
  },
  {
   "cell_type": "markdown",
   "id": "da6464a6",
   "metadata": {},
   "source": [
    "Personalization Analysis"
   ]
  },
  {
   "cell_type": "code",
   "execution_count": null,
   "id": "f0b55d18",
   "metadata": {},
   "outputs": [],
   "source": [
    "import importlib\n",
    "import gaze_analysis.visualization as vis\n",
    "import gaze_analysis.io_utils as io\n",
    "\n",
    "importlib.reload(vis)\n",
    "importlib.reload(io)"
   ]
  },
  {
   "cell_type": "code",
   "execution_count": null,
   "id": "b92c0290",
   "metadata": {},
   "outputs": [],
   "source": [
    "all_df = io.load_processed_files(\"processed/*_processed.parquet\", k=50)\n",
    "vis.plot_user_vs_group(all_df, user_id=\"100\")"
   ]
  },
  {
   "cell_type": "code",
   "execution_count": null,
   "id": "4614fe0a",
   "metadata": {},
   "outputs": [],
   "source": [
    "vis.plot_user_vs_group(all_df, user_id=\"1002\")"
   ]
  },
  {
   "cell_type": "code",
   "execution_count": null,
   "id": "7b340554",
   "metadata": {},
   "outputs": [],
   "source": [
    "binned = vis._bin_attention(all_df, n_bins=100)\n",
    "binned.head(), binned.shape, binned.columns"
   ]
  },
  {
   "cell_type": "code",
   "execution_count": null,
   "id": "42a06f9a",
   "metadata": {},
   "outputs": [],
   "source": [
    "import gaze_analysis.stat_analysis as stat\n",
    "\n",
    "intra_df = stat.compute_intra_subject_correlation(binned)\n",
    "print(intra_df)\n",
    "print(\"\\nSummary:\")\n",
    "print(intra_df[\"intra_corr\"].describe())\n"
   ]
  },
  {
   "cell_type": "markdown",
   "id": "f0015bde",
   "metadata": {},
   "source": [
    "No strong within-user consistency. Eye-movement entropy profiles are not stable across the two video clips."
   ]
  },
  {
   "cell_type": "code",
   "execution_count": null,
   "id": "38a3b807",
   "metadata": {},
   "outputs": [],
   "source": [
    "import statsmodels.api as sm\n",
    "from statsmodels.formula.api import mixedlm\n",
    "\n",
    "summary = (\n",
    "    binned.groupby([\"participant_id\", \"session_id\"])[\"rolling_entropy\"]\n",
    "          .mean().reset_index()\n",
    ")\n",
    "\n",
    "model = mixedlm(\"rolling_entropy ~ session_id\", summary, groups=summary[\"participant_id\"])\n",
    "result = model.fit()\n",
    "\n",
    "print(result.summary())"
   ]
  },
  {
   "cell_type": "markdown",
   "id": "a5facfdf",
   "metadata": {},
   "source": [
    "A mixed-effects analysis was conducted to examine whether participants in the GazeBaseVR dataset exhibited personalized patterns of visual attention, as reflected by their gaze entropy across two video-viewing sessions. The model revealed no significant fixed effect of session (p ≈ 0.997), indicating that average gaze dispersion did not differ between the two video clips. The participant-level random effect (Group Var ≈ 0.005) was small relative to the residual variance (≈ 0.024), suggesting that individual differences accounted for only a minor portion of the total variability in entropy. Together with low intra-subject correlations, these results imply that while some variability exists across participants, gaze entropy patterns are largely consistent across the population and primarily driven by stimulus content rather than stable, person-specific attention traits."
   ]
  },
  {
   "cell_type": "code",
   "execution_count": null,
   "id": "72b99f11",
   "metadata": {},
   "outputs": [],
   "source": [
    "reg_df = stat.regression_user_vs_group(binned)\n",
    "print(reg_df.head())\n",
    "print(\"\\nSummary:\")\n",
    "print(reg_df.describe())"
   ]
  },
  {
   "cell_type": "markdown",
   "id": "a7c46bf2",
   "metadata": {},
   "source": [
    "A per-session regression analysis comparing each participant’s gaze entropy trajectory to the group mean revealed moderate individuality in attention dynamics. On average, only about 21 % of a participant’s temporal entropy variation could be explained by the group pattern, indicating that users often deviated from the shared viewing trend. The wide range of slopes (−0.4 – 2.1) and intercepts (−3.3 – 4.1) further suggests that some participants consistently maintained lower entropy—reflecting tighter focus while others exhibited more dispersed gaze behavior. These findings imply that although the stimulus strongly shapes overall attention, individual viewers demonstrate distinct, session-specific gaze signatures."
   ]
  },
  {
   "cell_type": "code",
   "execution_count": null,
   "id": "2095929b",
   "metadata": {},
   "outputs": [],
   "source": [
    "vis.plot_user_uniqueness(reg_df)"
   ]
  },
  {
   "cell_type": "code",
   "execution_count": null,
   "id": "304f7a63",
   "metadata": {},
   "outputs": [],
   "source": [
    "from gaze_analysis.data_utils import SlidingGazeDataset\n",
    "\n",
    "dataset = SlidingGazeDataset(\n",
    "    \"processed/\", \n",
    "    window_sec=5, \n",
    "    pred_sec=5, \n",
    "    sample_rate=25, \n",
    "    downsample=10, \n",
    "    stride=25 \n",
    ")\n",
    "\n",
    "print(f\"Samples: {len(dataset)}\")\n",
    "x, y = dataset[0]\n",
    "print(\"Input shape:\", x.shape, \"Target shape:\", y.shape)"
   ]
  },
  {
   "cell_type": "code",
   "execution_count": null,
   "id": "48ed6e3c",
   "metadata": {},
   "outputs": [],
   "source": [
    "from sklearn.model_selection import train_test_split\n",
    "from torch.utils.data import DataLoader, Subset\n",
    "\n",
    "train_idx, test_idx = train_test_split(\n",
    "    np.arange(len(dataset)), test_size=0.2, random_state=42\n",
    ")\n",
    "\n",
    "train_loader = DataLoader(Subset(dataset, train_idx), batch_size=16, shuffle=True)\n",
    "test_loader  = DataLoader(Subset(dataset, test_idx), batch_size=16, shuffle=False)\n",
    "\n",
    "print(f\"Train: {len(train_idx)} | Test: {len(test_idx)}\")"
   ]
  },
  {
   "cell_type": "code",
   "execution_count": null,
   "id": "c9042123",
   "metadata": {},
   "outputs": [],
   "source": [
    "from gaze_analysis.model import LSTMAttentionForecast\n",
    "from gaze_analysis.train_utils import train_model\n",
    "\n",
    "model = LSTMAttentionForecast(input_dim=5, hidden_dim=128, pred_len=125)\n",
    "trained_model, hist = train_model(model, train_loader, test_loader)"
   ]
  },
  {
   "cell_type": "code",
   "execution_count": null,
   "id": "49c6ac4f",
   "metadata": {},
   "outputs": [],
   "source": [
    "import matplotlib.pyplot as plt\n",
    "import torch\n",
    "\n",
    "device = torch.device(\"cuda\" if torch.cuda.is_available() else \"cpu\")\n",
    "model.eval()\n",
    "x_batch, y_batch = next(iter(test_loader))\n",
    "with torch.no_grad():\n",
    "    y_pred, attn = model(x_batch.to(device))\n",
    "\n",
    "y_true = y_batch[0].cpu().numpy()\n",
    "y_hat = y_pred[0].cpu().numpy()\n",
    "\n",
    "plt.figure(figsize=(10,4))\n",
    "plt.plot(y_true, label=\"True (Entropy)\")\n",
    "plt.plot(y_hat, '--', label=\"Predicted\")\n",
    "plt.title(\"Next 5s Attention Forecast\")\n",
    "plt.xlabel(\"Time (samples)\")\n",
    "plt.ylabel(\"Rolling Entropy\")\n",
    "plt.legend()\n",
    "plt.tight_layout()\n",
    "plt.show()"
   ]
  },
  {
   "cell_type": "code",
   "execution_count": null,
   "id": "b3013672",
   "metadata": {},
   "outputs": [],
   "source": [
    "from gaze_analysis.evaluate import evaluate_model\n",
    "\n",
    "r2, corr = evaluate_model(trained_model, test_loader)"
   ]
  },
  {
   "cell_type": "markdown",
   "id": "d96e866f",
   "metadata": {},
   "source": [
    "I trained an LSTM model with an attention mechanism to predict short-term attention dynamics from gaze data in the GazeBaseVR dataset. Using 5-second input windows of gaze features (x, y, vx, vy, rolling_entropy), the model learned to forecast the next 5 seconds of attention behavior, measured by rolling gaze entropy. After augmenting the dataset with overlapping temporal windows, the model achieved an R² of 0.53 and a Pearson correlation of 0.74 on the test set, indicating that it successfully captured more than half of the variability in attention patterns and accurately followed the temporal trends of gaze entropy. These results suggest that short-term gaze behavior contains meaningful temporal structure and moderate individual predictability, even though long-term consistency across sessions remains limited."
   ]
  },
  {
   "cell_type": "markdown",
   "id": "1af493cc",
   "metadata": {},
   "source": []
  }
 ],
 "metadata": {
  "kernelspec": {
   "display_name": ".venv",
   "language": "python",
   "name": "python3"
  },
  "language_info": {
   "codemirror_mode": {
    "name": "ipython",
    "version": 3
   },
   "file_extension": ".py",
   "mimetype": "text/x-python",
   "name": "python",
   "nbconvert_exporter": "python",
   "pygments_lexer": "ipython3",
   "version": "3.12.4"
  }
 },
 "nbformat": 4,
 "nbformat_minor": 5
}
